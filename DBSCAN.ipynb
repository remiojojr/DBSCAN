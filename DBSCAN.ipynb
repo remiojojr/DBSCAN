{
  "nbformat": 4,
  "nbformat_minor": 0,
  "metadata": {
    "colab": {
      "provenance": []
    },
    "kernelspec": {
      "name": "python3",
      "display_name": "Python 3"
    },
    "language_info": {
      "name": "python"
    }
  },
  "cells": [
    {
      "cell_type": "code",
      "execution_count": null,
      "metadata": {
        "id": "4wz_V7nRIBdL"
      },
      "outputs": [],
      "source": [
        "# Tanami Start\n",
        "\n",
        "import pandas as pd\n",
        "import numpy as np\n",
        "import matplotlib\n",
        "import matplotlib.pyplot as plt\n",
        "import sqlalchemy\n",
        "import pymysql\n",
        "import sklearn as sk\n",
        "from sqlalchemy import create_engine\n",
        "\n",
        "from sklearn.preprocessing import StandardScaler\n",
        "from matplotlib.pyplot import figure \n",
        "from sklearn.cluster import DBSCAN"
      ]
    },
    {
      "cell_type": "code",
      "source": [],
      "metadata": {
        "id": "70A49fBjIiZQ"
      },
      "execution_count": null,
      "outputs": []
    },
    {
      "cell_type": "code",
      "source": [
        "#Pull from Database\n",
        "\n",
        "df = pd.read_sql_query(\n",
        "'''SELECT\n",
        "*\n",
        "FROM [UPDATE FROM THE AGGREGATION TABLE]\n",
        "''',conn)"
      ],
      "metadata": {
        "id": "lRGTsJFsIxzS"
      },
      "execution_count": null,
      "outputs": []
    },
    {
      "cell_type": "code",
      "source": [
        "df.columns"
      ],
      "metadata": {
        "id": "UR9RKxfaI9Dw"
      },
      "execution_count": null,
      "outputs": []
    },
    {
      "cell_type": "code",
      "source": [
        "dbscan=DBSCAN()\n",
        "features = ['[UPDATE COLUMNS FROM CELL ABOVE]']\n",
        "\n",
        "data = dbscan.fit(df[features])"
      ],
      "metadata": {
        "id": "bx7MeabQJBs9"
      },
      "execution_count": null,
      "outputs": []
    },
    {
      "cell_type": "code",
      "source": [
        "from sklearn.neighbors import NearestNeighbors\n",
        "neigh = NearestNeighbors(n_neighbors=2)\n",
        "nbrs = neigh.fit(df[features])\n",
        "distances, indices = nbrs.kneighbors(df[features])"
      ],
      "metadata": {
        "id": "zSipEcCyJL-X"
      },
      "execution_count": null,
      "outputs": []
    },
    {
      "cell_type": "code",
      "source": [
        "# Plotting K-distance Graph for Verification and Elbow Identification\n",
        "\n",
        "distances = np.sort(distances, axis=0)\n",
        "distances = distances[:,1]\n",
        "plt.figure(figsize=(20,10))\n",
        "plt.plot(distances)\n",
        "plt.title('K-distance Graph',fontsize=20)\n",
        "plt.xlabel('Data Points sorted by distance',fontsize=14)\n",
        "plt.ylabel('Epsilon',fontsize=14)\n",
        "plt.show()"
      ],
      "metadata": {
        "id": "T6wVXTjWJQAZ"
      },
      "execution_count": null,
      "outputs": []
    },
    {
      "cell_type": "code",
      "source": [
        "model = DBSCAN(eps = 110, min_samples = 10).fit(df[features])\n",
        "outliers = df[model.labels_ == -1]"
      ],
      "metadata": {
        "id": "CDPj_0CzJTXG"
      },
      "execution_count": null,
      "outputs": []
    },
    {
      "cell_type": "code",
      "source": [
        "pd.set_option('display.max_columns', 500)\n",
        "outliers"
      ],
      "metadata": {
        "id": "bUIrfcpnJeM3"
      },
      "execution_count": null,
      "outputs": []
    }
  ]
}